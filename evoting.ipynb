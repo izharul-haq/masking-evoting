{
 "cells": [
  {
   "cell_type": "markdown",
   "metadata": {},
   "source": [
    "# Masking E-voting Database"
   ]
  },
  {
   "cell_type": "markdown",
   "metadata": {},
   "source": [
    "## Implementation"
   ]
  },
  {
   "cell_type": "markdown",
   "metadata": {},
   "source": [
    "### Database"
   ]
  },
  {
   "cell_type": "code",
   "execution_count": 25,
   "metadata": {},
   "outputs": [],
   "source": [
    "# Database for votes\n",
    "# Each row in votes database contains these information:\n",
    "# 1. timestamp\n",
    "# 2. voter's id\n",
    "# 3. vote for candidate 1 (0 or 1)\n",
    "# 4. vote for candidate 2 (0 or 1)\n",
    "# .\n",
    "# .\n",
    "# .\n",
    "# n. vote for candidate m (0 or 1)\n",
    "\n",
    "DB_VOTES = []"
   ]
  },
  {
   "cell_type": "markdown",
   "metadata": {},
   "source": [
    "### Okamoto-Uchiyama Cryptosystem"
   ]
  },
  {
   "cell_type": "code",
   "execution_count": 26,
   "metadata": {},
   "outputs": [],
   "source": [
    "from random import randint"
   ]
  },
  {
   "cell_type": "code",
   "execution_count": 27,
   "metadata": {},
   "outputs": [],
   "source": [
    "def gen_key(p: int, q: int) -> (int, int, int, int, int):\n",
    "    '''Generate public and private keys used in\n",
    "    okamoto-uchiyama cryptosystems from given\n",
    "    prime numbers p and q.\n",
    "\n",
    "    It's assumed that both p and q are prime\n",
    "    numbers that have the same bit length.'''\n",
    "\n",
    "    p_square = p ** 2\n",
    "\n",
    "    n = (p_square) * q\n",
    "\n",
    "    # Choose random integer g that satisfy\n",
    "    # g ** (p-1) mod (p ** 2) != 1\n",
    "    g = randint(2, n - 2)\n",
    "    while pow(g, p - 1, p_square) == 1:\n",
    "        g = randint(2, n - 2)\n",
    "\n",
    "    h = pow(g, n, n)\n",
    "\n",
    "    return n, g, h, p, q"
   ]
  },
  {
   "cell_type": "code",
   "execution_count": 28,
   "metadata": {},
   "outputs": [],
   "source": [
    "def encrypt(vote: list[int], n: int, g: int, h: int) -> list[int]:\n",
    "    '''Encrypt vote with public key (n, g, h)\n",
    "    using okamoto-uchiyama cryptosystem.'''\n",
    "\n",
    "    cipher_vote: list[int] = []\n",
    "\n",
    "    for v in vote:\n",
    "        r = randint(1, n - 1)\n",
    "        c = (pow(g, v, n) * pow(h, r, n)) % n\n",
    "        cipher_vote.append(c)\n",
    "\n",
    "    return cipher_vote"
   ]
  },
  {
   "cell_type": "code",
   "execution_count": 29,
   "metadata": {},
   "outputs": [],
   "source": [
    "def decrypt(cipher_vote: list[int], p: int, g: int) -> list[int]:\n",
    "    '''Decrypt vote with key (p, g) using\n",
    "    okamoto-uchiyama cryptosystem.'''\n",
    "\n",
    "    p_square = p ** 2\n",
    "\n",
    "    vote: list[int] = []\n",
    "    \n",
    "    for c in cipher_vote:\n",
    "        a = (pow(c, p - 1, p_square) - 1) // p\n",
    "        b = (pow(g, p - 1, p_square) - 1) // p\n",
    "\n",
    "        v = (a * pow(b, -1, p)) % p\n",
    "\n",
    "        vote.append(v)\n",
    "\n",
    "    return vote"
   ]
  },
  {
   "cell_type": "code",
   "execution_count": 30,
   "metadata": {},
   "outputs": [],
   "source": [
    "def add(vote_1: list[int], vote_2: list[int], n: int) -> list[int]:\n",
    "    '''Perform addition between two cipher votes.\n",
    "\n",
    "    It's assumed that both cipher votes have the\n",
    "    same number of votes.'''\n",
    "\n",
    "    res: list[int] = []\n",
    "\n",
    "    for v1, v2 in zip(vote_1, vote_2):\n",
    "        res.append((v1 * v2) % n)\n",
    "\n",
    "    return res"
   ]
  },
  {
   "cell_type": "markdown",
   "metadata": {},
   "source": [
    "## Testing"
   ]
  },
  {
   "cell_type": "markdown",
   "metadata": {},
   "source": [
    "### Key Generation"
   ]
  },
  {
   "cell_type": "code",
   "execution_count": 31,
   "metadata": {},
   "outputs": [],
   "source": [
    "# To make calculation easier, we'll use\n",
    "# small prime numbers to generate key\n",
    "# used in paillier cryptosystem\n",
    "\n",
    "P = 5519\n",
    "Q = 7013"
   ]
  },
  {
   "cell_type": "code",
   "execution_count": 32,
   "metadata": {},
   "outputs": [
    {
     "name": "stdout",
     "output_type": "stream",
     "text": [
      "213611498693 13401585519 189727378736 5519 7013\n"
     ]
    }
   ],
   "source": [
    "n, g, h, p, q = gen_key(P, Q)\n",
    "print(n, g, h, p, q)"
   ]
  },
  {
   "cell_type": "markdown",
   "metadata": {},
   "source": [
    "### Votes\n",
    "\n",
    "Let's assume that there are two candidates to vote for. Therefore, each row in database for votes contain these information:\n",
    "\n",
    "1. timestamps\n",
    "\n",
    "2. voter's id\n",
    "\n",
    "3. vote for candidate 1 (0 or 1)\n",
    "\n",
    "4. vote for candidate 2 (0 or 1)\n"
   ]
  },
  {
   "cell_type": "code",
   "execution_count": 33,
   "metadata": {},
   "outputs": [],
   "source": [
    "from hashlib import sha3_256\n",
    "from datetime import datetime"
   ]
  },
  {
   "cell_type": "code",
   "execution_count": 34,
   "metadata": {},
   "outputs": [
    {
     "name": "stdout",
     "output_type": "stream",
     "text": [
      "vote 01\n",
      "('2021-11-27 15:42:00.130523', '1AFD827639BD0919C0F788EB1C9F80AAABD13AC91949610CBDBBCA909401DD14', 49804642109, 103856844450)\n",
      "\n",
      "vote 02\n",
      "('2021-11-27 15:42:00.130523', 'C840939042E1596FE83C41E4B10DE197CEB490D4EF13E6F7A9621F25CB327435', 136985125956, 27195361484)\n",
      "\n",
      "vote 03\n",
      "('2021-11-27 15:42:00.130523', '057973DEF317E365BF64D675EA635AE5A16410902109E59BE7416022B2033129', 7352868113, 48346303935)\n",
      "\n",
      "vote 04\n",
      "('2021-11-27 15:42:00.130523', '4C68EF38B4D3D5697B85C3A696D1C4A1BE5AA6536756754371FA94C0AADFF411', 46338376586, 153206200880)\n",
      "\n",
      "vote 05\n",
      "('2021-11-27 15:42:00.131523', '380AF84015F83E74A2F6F63DD2AC97BF927822B4F90668FFC3200EF8740AA5B0', 201397904380, 61728595541)\n",
      "\n"
     ]
    }
   ],
   "source": [
    "VOTERS_ID: list[str] = [\n",
    "    '1111111111111111', # voter 1\n",
    "    '2222222222222222', # voter 2\n",
    "    '3333333333333333', # voter 3\n",
    "    '4444444444444444', # voter 4\n",
    "    '5555555555555555'  # voter 5\n",
    "]\n",
    "\n",
    "VOTES_GIVEN: list = [\n",
    "    [0, 1], # voter 1\n",
    "    [1, 0], # voter 2\n",
    "    [0, 1], # voter 3\n",
    "    [1, 0], # voter 4\n",
    "    [0, 1], # voter 5\n",
    "]\n",
    "\n",
    "for voter_id, vote in zip(VOTERS_ID, VOTES_GIVEN):\n",
    "    ID: str = sha3_256(voter_id.encode('utf-8')).hexdigest().upper()\n",
    "    vote_1, vote_2 = encrypt(vote, n, g, h)\n",
    "    \n",
    "    DB_VOTES.append((\n",
    "        str(datetime.now()),\n",
    "        ID,\n",
    "        vote_1,\n",
    "        vote_2\n",
    "    ))\n",
    "\n",
    "for i, vote in enumerate(DB_VOTES):\n",
    "    print(f'vote 0{i+1}')\n",
    "    print(vote)\n",
    "    print()"
   ]
  },
  {
   "cell_type": "code",
   "execution_count": 35,
   "metadata": {},
   "outputs": [
    {
     "data": {
      "text/plain": [
       "[109782504189, 6270883542]"
      ]
     },
     "execution_count": 35,
     "metadata": {},
     "output_type": "execute_result"
    }
   ],
   "source": [
    "sum_votes: list[int] = []\n",
    "\n",
    "for i, vote in enumerate(DB_VOTES):\n",
    "    vote_1, vote_2 = vote[2], vote[3]\n",
    "    if i == 0:\n",
    "        sum_votes.append(vote_1)\n",
    "        sum_votes.append(vote_2)\n",
    "    \n",
    "    else:\n",
    "        sum_votes = add(sum_votes, [vote_1, vote_2], n)\n",
    "\n",
    "sum_votes"
   ]
  },
  {
   "cell_type": "code",
   "execution_count": 36,
   "metadata": {},
   "outputs": [
    {
     "data": {
      "text/plain": [
       "[2, 3]"
      ]
     },
     "execution_count": 36,
     "metadata": {},
     "output_type": "execute_result"
    }
   ],
   "source": [
    "decipher_vote = decrypt(sum_votes, p, g)\n",
    "decipher_vote"
   ]
  }
 ],
 "metadata": {
  "interpreter": {
   "hash": "207c2685e79e2d90596fbb67ead5ab9cfd2cd8aea519e7edff219f386f2efc47"
  },
  "kernelspec": {
   "display_name": "Python 3.9.7 64-bit ('env': venv)",
   "language": "python",
   "name": "python3"
  },
  "language_info": {
   "codemirror_mode": {
    "name": "ipython",
    "version": 3
   },
   "file_extension": ".py",
   "mimetype": "text/x-python",
   "name": "python",
   "nbconvert_exporter": "python",
   "pygments_lexer": "ipython3",
   "version": "3.9.7"
  },
  "orig_nbformat": 4
 },
 "nbformat": 4,
 "nbformat_minor": 2
}
